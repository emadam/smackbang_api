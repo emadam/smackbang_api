{
 "cells": [
  {
   "cell_type": "code",
   "execution_count": 19,
   "id": "10ea66c9",
   "metadata": {},
   "outputs": [],
   "source": [
    "import seaborn as sns"
   ]
  },
  {
   "cell_type": "code",
   "execution_count": 2,
   "id": "0cde828c",
   "metadata": {},
   "outputs": [],
   "source": [
    "from smackbang.matches import get_matches"
   ]
  },
  {
   "cell_type": "code",
   "execution_count": 4,
   "id": "64cf09de",
   "metadata": {},
   "outputs": [],
   "source": [
    "from textblob import TextBlob\n",
    "import tweepy\n",
    "import matplotlib.pyplot as plt\n",
    "import pandas as pd\n",
    "import re\n",
    "from nltk.sentiment.vader import SentimentIntensityAnalyzer\n"
   ]
  },
  {
   "cell_type": "code",
   "execution_count": 5,
   "id": "b91edfa7",
   "metadata": {},
   "outputs": [],
   "source": [
    "# Authentication\n",
    "consumerKey = \"PqA88zMUxSwVZi5hJpKdVKT4L\"\n",
    "consumerSecret = \"WQ1xDXrygO4US93heMenGkj5z6DZeUQrZDIyoACAVZqtzulpPc\"\n",
    "accessToken = \"1499085994561310727-p9J1gRV1tsLrVowGCvinw3lEvMHB5z\"\n",
    "accessTokenSecret = \"zVxDSNXC8qmv2ZR5ZD6bE7rT0EmaRewTJxakYlQx89ncL\"\n",
    "auth = tweepy.OAuthHandler(consumerKey, consumerSecret)\n",
    "auth.set_access_token(accessToken, accessTokenSecret)\n",
    "api = tweepy.API(auth)"
   ]
  },
  {
   "cell_type": "code",
   "execution_count": 44,
   "id": "d52ce970",
   "metadata": {},
   "outputs": [],
   "source": [
    "#Sentiment Analysis\n",
    "\n",
    "def analyze_tweet(cities):\n",
    "    noOfTweet = 200\n",
    "    list_df= []\n",
    "    for city in cities:      \n",
    "\n",
    "        #tweets = tweepy.Cursor(api.search_tweets(), q=keyword).items(noOfTweet)\n",
    "        tweets = api.search_tweets(q=city, count=noOfTweet)\n",
    "\n",
    "        tweet_list = []\n",
    "\n",
    "        for tweet in tweets:\n",
    "            tweet_list.append(tweet.text)\n",
    "\n",
    "        #Tweets to DF\n",
    "        tweet_list = pd.DataFrame(tweet_list)\n",
    "\n",
    "        #Clean the data\n",
    "        tweet_list.drop_duplicates(inplace = True)\n",
    "        tw_list = pd.DataFrame(tweet_list)\n",
    "\n",
    "        #Make another column to compare\n",
    "        tw_list[\"text\"] = tw_list[0]\n",
    "\n",
    "        #More cleaning\n",
    "        remove_rt = lambda x: re.sub('RT @\\w+:',\" \",x)\n",
    "        rt = lambda x: re.sub('(@[A-Za-z0–9]+)|(\\w+:\\/\\/\\S+)',\" \",x)\n",
    "        removen = lambda x: re.sub('\\n',' ', x)\n",
    "        tw_list[\"text\"] = tw_list.text.map(remove_rt).map(rt).map(removen)\n",
    "        tw_list[\"text\"] = tw_list.text.str.lower()\n",
    "  \n",
    "        #I will try to simplify this\n",
    "        tw_list[[\"polarity\", \"subjectivity\"]] = tw_list[\"text\"].apply(lambda Text: pd.Series(TextBlob(Text).sentiment))\n",
    "        for index, row in tw_list[\"text\"].iteritems():\n",
    "            score = SentimentIntensityAnalyzer().polarity_scores(row)\n",
    "            neg = score[\"neg\"]\n",
    "            neu = score[\"neu\"]\n",
    "            pos = score[\"pos\"]\n",
    "            comp = score[\"compound\"]\n",
    "            if neg > pos:\n",
    "                tw_list.loc[index, \"sentiment\"] = \"negative\"\n",
    "            elif pos > neg:\n",
    "                tw_list.loc[index, \"sentiment\"] = \"positive\"\n",
    "            else:\n",
    "                tw_list.loc[index, \"sentiment\"] = \"neutral\"\n",
    "                tw_list.loc[index, \"neg\"] = neg\n",
    "                tw_list.loc[index, \"neu\"] = neu\n",
    "                tw_list.loc[index, \"pos\"] = pos\n",
    "                tw_list.loc[index, \"compound\"] = comp\n",
    "        print(\"This is for 2k tweets\")\n",
    "        plt.hist(tw_list[\"polarity\"],bins=30)\n",
    "        plt.show()\n",
    "        def thumb(neg,neu,pos):\n",
    "            if pos+(neu/2) >= neg+(neu/2):\n",
    "                return \"👍\"\n",
    "            else:\n",
    "                return \"👎\"\n",
    "\n",
    "        #Output a simplified DF\n",
    "        def count_values_in_column(data,feature):\n",
    "            #print(data)\n",
    "            new_df = pd.DataFrame({\"Score\":[\"neutral\",\"positive\",\"negative\"],\"Total\":[0,0,0], \"Percentage\":[0,0,0]})\n",
    "            new_df.set_index(\"Score\",inplace =True)\n",
    "            new_df[\"Total\"] = data.loc[:,feature].value_counts(dropna=False)\n",
    "            new_df[\"Percentage\"]=round(data.loc[:,feature].value_counts(dropna=False,normalize=True)*100,2)\n",
    "            new_df = new_df.fillna(0)           \n",
    "            new_df[\"City\"] = city\n",
    "            new_df[\"Verdict\"] = thumb(new_df[\"Total\"].loc[\"negative\"],\n",
    "                                      new_df[\"Total\"].loc[\"neutral\"], \n",
    "                                      new_df[\"Total\"].loc[\"positive\"])\n",
    "            list_df.append(new_df)\n",
    "            #print(new_df)\n",
    "\n",
    "\n",
    "        #Count_values for sentiment\n",
    "        count_values_in_column(tw_list,\"sentiment\")\n",
    "    result =  pd.concat(list_df)\n",
    "    \n",
    "        #test analysis\n",
    "    test = result.drop(columns=[\"Verdict\"])\n",
    "    return test\n",
    "    #return result.reset_index(drop=True).drop(columns=[\"Total\",\"Percentage\"]).drop_duplicates()\n"
   ]
  },
  {
   "cell_type": "code",
   "execution_count": 43,
   "id": "200b9b01",
   "metadata": {},
   "outputs": [
    {
     "name": "stdout",
     "output_type": "stream",
     "text": [
      "CPU times: user 4 µs, sys: 1e+03 ns, total: 5 µs\n",
      "Wall time: 9.06 µs\n",
      "This is for 2k tweets\n"
     ]
    },
    {
     "data": {
      "image/png": "[encoded data removed]",
      "text/plain": [
       "<Figure size 432x288 with 1 Axes>"
      ]
     },
     "metadata": {
      "needs_background": "light"
     },
     "output_type": "display_data"
    },
    {
     "name": "stdout",
     "output_type": "stream",
     "text": [
      "This is for 2k tweets\n"
     ]
    },
    {
     "data": {
      "image/png": "[encoded data removed]",
      "text/plain": [
       "<Figure size 432x288 with 1 Axes>"
      ]
     },
     "metadata": {
      "needs_background": "light"
     },
     "output_type": "display_data"
    },
    {
     "name": "stdout",
     "output_type": "stream",
     "text": [
      "This is for 2k tweets\n"
     ]
    },
    {
     "data": {
      "image/png": "[encoded data removed]",
      "text/plain": [
       "<Figure size 432x288 with 1 Axes>"
      ]
     },
     "metadata": {
      "needs_background": "light"
     },
     "output_type": "display_data"
    },
    {
     "name": "stdout",
     "output_type": "stream",
     "text": [
      "This is for 2k tweets\n"
     ]
    },
    {
     "data": {
      "image/png": "[encoded data removed]",
      "text/plain": [
       "<Figure size 432x288 with 1 Axes>"
      ]
     },
     "metadata": {
      "needs_background": "light"
     },
     "output_type": "display_data"
    },
    {
     "name": "stdout",
     "output_type": "stream",
     "text": [
      "This is for 2k tweets\n"
     ]
    },
    {
     "data": {
      "image/png": "[encoded data removed]",
      "text/plain": [
       "<Figure size 432x288 with 1 Axes>"
      ]
     },
     "metadata": {
      "needs_background": "light"
     },
     "output_type": "display_data"
    },
    {
     "name": "stdout",
     "output_type": "stream",
     "text": [
      "This is for 2k tweets\n"
     ]
    },
    {
     "data": {
      "image/png": "[encoded data removed]",
      "text/plain": [
       "<Figure size 432x288 with 1 Axes>"
      ]
     },
     "metadata": {
      "needs_background": "light"
     },
     "output_type": "display_data"
    },
    {
     "name": "stdout",
     "output_type": "stream",
     "text": [
      "This is for 2k tweets\n"
     ]
    },
    {
     "data": {
      "image/png": "[encoded data removed]",
      "text/plain": [
       "<Figure size 432x288 with 1 Axes>"
      ]
     },
     "metadata": {
      "needs_background": "light"
     },
     "output_type": "display_data"
    },
    {
     "name": "stdout",
     "output_type": "stream",
     "text": [
      "This is for 2k tweets\n"
     ]
    },
    {
     "data": {
      "image/png": "[encoded data removed]",
      "text/plain": [
       "<Figure size 432x288 with 1 Axes>"
      ]
     },
     "metadata": {
      "needs_background": "light"
     },
     "output_type": "display_data"
    },
    {
     "data": {
      "text/html": [
       "<div>\n",
       "<style scoped>\n",
       "    .dataframe tbody tr th:only-of-type {\n",
       "        vertical-align: middle;\n",
       "    }\n",
       "\n",
       "    .dataframe tbody tr th {\n",
       "        vertical-align: top;\n",
       "    }\n",
       "\n",
       "    .dataframe thead th {\n",
       "        text-align: right;\n",
       "    }\n",
       "</style>\n",
       "<table border=\"1\" class=\"dataframe\">\n",
       "  <thead>\n",
       "    <tr style=\"text-align: right;\">\n",
       "      <th></th>\n",
       "      <th>Total</th>\n",
       "      <th>Percentage</th>\n",
       "      <th>City</th>\n",
       "    </tr>\n",
       "    <tr>\n",
       "      <th>Score</th>\n",
       "      <th></th>\n",
       "      <th></th>\n",
       "      <th></th>\n",
       "    </tr>\n",
       "  </thead>\n",
       "  <tbody>\n",
       "    <tr>\n",
       "      <th>neutral</th>\n",
       "      <td>66</td>\n",
       "      <td>73.33</td>\n",
       "      <td>Jakarta</td>\n",
       "    </tr>\n",
       "    <tr>\n",
       "      <th>positive</th>\n",
       "      <td>18</td>\n",
       "      <td>20.00</td>\n",
       "      <td>Jakarta</td>\n",
       "    </tr>\n",
       "    <tr>\n",
       "      <th>negative</th>\n",
       "      <td>6</td>\n",
       "      <td>6.67</td>\n",
       "      <td>Jakarta</td>\n",
       "    </tr>\n",
       "    <tr>\n",
       "      <th>neutral</th>\n",
       "      <td>25</td>\n",
       "      <td>83.33</td>\n",
       "      <td>Kuala Lumpur</td>\n",
       "    </tr>\n",
       "    <tr>\n",
       "      <th>positive</th>\n",
       "      <td>3</td>\n",
       "      <td>10.00</td>\n",
       "      <td>Kuala Lumpur</td>\n",
       "    </tr>\n",
       "    <tr>\n",
       "      <th>negative</th>\n",
       "      <td>2</td>\n",
       "      <td>6.67</td>\n",
       "      <td>Kuala Lumpur</td>\n",
       "    </tr>\n",
       "    <tr>\n",
       "      <th>neutral</th>\n",
       "      <td>39</td>\n",
       "      <td>49.37</td>\n",
       "      <td>Berlin</td>\n",
       "    </tr>\n",
       "    <tr>\n",
       "      <th>positive</th>\n",
       "      <td>21</td>\n",
       "      <td>26.58</td>\n",
       "      <td>Berlin</td>\n",
       "    </tr>\n",
       "    <tr>\n",
       "      <th>negative</th>\n",
       "      <td>19</td>\n",
       "      <td>24.05</td>\n",
       "      <td>Berlin</td>\n",
       "    </tr>\n",
       "    <tr>\n",
       "      <th>neutral</th>\n",
       "      <td>37</td>\n",
       "      <td>71.15</td>\n",
       "      <td>Seoul</td>\n",
       "    </tr>\n",
       "    <tr>\n",
       "      <th>positive</th>\n",
       "      <td>14</td>\n",
       "      <td>26.92</td>\n",
       "      <td>Seoul</td>\n",
       "    </tr>\n",
       "    <tr>\n",
       "      <th>negative</th>\n",
       "      <td>1</td>\n",
       "      <td>1.92</td>\n",
       "      <td>Seoul</td>\n",
       "    </tr>\n",
       "    <tr>\n",
       "      <th>neutral</th>\n",
       "      <td>81</td>\n",
       "      <td>92.05</td>\n",
       "      <td>Osaka</td>\n",
       "    </tr>\n",
       "    <tr>\n",
       "      <th>positive</th>\n",
       "      <td>5</td>\n",
       "      <td>5.68</td>\n",
       "      <td>Osaka</td>\n",
       "    </tr>\n",
       "    <tr>\n",
       "      <th>negative</th>\n",
       "      <td>2</td>\n",
       "      <td>2.27</td>\n",
       "      <td>Osaka</td>\n",
       "    </tr>\n",
       "    <tr>\n",
       "      <th>neutral</th>\n",
       "      <td>24</td>\n",
       "      <td>30.00</td>\n",
       "      <td>Brussels</td>\n",
       "    </tr>\n",
       "    <tr>\n",
       "      <th>positive</th>\n",
       "      <td>38</td>\n",
       "      <td>47.50</td>\n",
       "      <td>Brussels</td>\n",
       "    </tr>\n",
       "    <tr>\n",
       "      <th>negative</th>\n",
       "      <td>18</td>\n",
       "      <td>22.50</td>\n",
       "      <td>Brussels</td>\n",
       "    </tr>\n",
       "    <tr>\n",
       "      <th>neutral</th>\n",
       "      <td>55</td>\n",
       "      <td>65.48</td>\n",
       "      <td>Frankfurt</td>\n",
       "    </tr>\n",
       "    <tr>\n",
       "      <th>positive</th>\n",
       "      <td>19</td>\n",
       "      <td>22.62</td>\n",
       "      <td>Frankfurt</td>\n",
       "    </tr>\n",
       "    <tr>\n",
       "      <th>negative</th>\n",
       "      <td>10</td>\n",
       "      <td>11.90</td>\n",
       "      <td>Frankfurt</td>\n",
       "    </tr>\n",
       "    <tr>\n",
       "      <th>neutral</th>\n",
       "      <td>36</td>\n",
       "      <td>65.45</td>\n",
       "      <td>Amsterdam</td>\n",
       "    </tr>\n",
       "    <tr>\n",
       "      <th>positive</th>\n",
       "      <td>15</td>\n",
       "      <td>27.27</td>\n",
       "      <td>Amsterdam</td>\n",
       "    </tr>\n",
       "    <tr>\n",
       "      <th>negative</th>\n",
       "      <td>4</td>\n",
       "      <td>7.27</td>\n",
       "      <td>Amsterdam</td>\n",
       "    </tr>\n",
       "  </tbody>\n",
       "</table>\n",
       "</div>"
      ],
      "text/plain": [
       "          Total  Percentage          City\n",
       "Score                                    \n",
       "neutral      66       73.33       Jakarta\n",
       "positive     18       20.00       Jakarta\n",
       "negative      6        6.67       Jakarta\n",
       "neutral      25       83.33  Kuala Lumpur\n",
       "positive      3       10.00  Kuala Lumpur\n",
       "negative      2        6.67  Kuala Lumpur\n",
       "neutral      39       49.37        Berlin\n",
       "positive     21       26.58        Berlin\n",
       "negative     19       24.05        Berlin\n",
       "neutral      37       71.15         Seoul\n",
       "positive     14       26.92         Seoul\n",
       "negative      1        1.92         Seoul\n",
       "neutral      81       92.05         Osaka\n",
       "positive      5        5.68         Osaka\n",
       "negative      2        2.27         Osaka\n",
       "neutral      24       30.00      Brussels\n",
       "positive     38       47.50      Brussels\n",
       "negative     18       22.50      Brussels\n",
       "neutral      55       65.48     Frankfurt\n",
       "positive     19       22.62     Frankfurt\n",
       "negative     10       11.90     Frankfurt\n",
       "neutral      36       65.45     Amsterdam\n",
       "positive     15       27.27     Amsterdam\n",
       "negative      4        7.27     Amsterdam"
      ]
     },
     "execution_count": 43,
     "metadata": {},
     "output_type": "execute_result"
    }
   ],
   "source": [
    "%time\n",
    "analyze_tweet([\"Jakarta\",\"Kuala Lumpur\",\"Berlin\",\"Seoul\",\"Osaka\",\"Brussels\",\"Frankfurt\",\"Amsterdam\"])"
   ]
  },
  {
   "cell_type": "code",
   "execution_count": 45,
   "id": "91d21ad9",
   "metadata": {},
   "outputs": [
    {
     "name": "stdout",
     "output_type": "stream",
     "text": [
      "CPU times: user 6 µs, sys: 1e+03 ns, total: 7 µs\n",
      "Wall time: 11.9 µs\n",
      "This is for 2k tweets\n"
     ]
    },
    {
     "data": {
      "image/png": "[encoded data removed]",
      "text/plain": [
       "<Figure size 432x288 with 1 Axes>"
      ]
     },
     "metadata": {
      "needs_background": "light"
     },
     "output_type": "display_data"
    },
    {
     "name": "stdout",
     "output_type": "stream",
     "text": [
      "This is for 2k tweets\n"
     ]
    },
    {
     "data": {
      "image/png": "[encoded data removed]",
      "text/plain": [
       "<Figure size 432x288 with 1 Axes>"
      ]
     },
     "metadata": {
      "needs_background": "light"
     },
     "output_type": "display_data"
    },
    {
     "name": "stdout",
     "output_type": "stream",
     "text": [
      "This is for 2k tweets\n"
     ]
    },
    {
     "data": {
      "image/png": "[encoded data removed]",
      "text/plain": [
       "<Figure size 432x288 with 1 Axes>"
      ]
     },
     "metadata": {
      "needs_background": "light"
     },
     "output_type": "display_data"
    },
    {
     "name": "stdout",
     "output_type": "stream",
     "text": [
      "This is for 2k tweets\n"
     ]
    },
    {
     "data": {
      "image/png": "[encoded data removed]",
      "text/plain": [
       "<Figure size 432x288 with 1 Axes>"
      ]
     },
     "metadata": {
      "needs_background": "light"
     },
     "output_type": "display_data"
    },
    {
     "name": "stdout",
     "output_type": "stream",
     "text": [
      "This is for 2k tweets\n"
     ]
    },
    {
     "data": {
      "image/png": "[encoded data removed]",
      "text/plain": [
       "<Figure size 432x288 with 1 Axes>"
      ]
     },
     "metadata": {
      "needs_background": "light"
     },
     "output_type": "display_data"
    },
    {
     "name": "stdout",
     "output_type": "stream",
     "text": [
      "This is for 2k tweets\n"
     ]
    },
    {
     "data": {
      "image/png": "[encoded data removed]",
      "text/plain": [
       "<Figure size 432x288 with 1 Axes>"
      ]
     },
     "metadata": {
      "needs_background": "light"
     },
     "output_type": "display_data"
    },
    {
     "name": "stdout",
     "output_type": "stream",
     "text": [
      "This is for 2k tweets\n"
     ]
    },
    {
     "data": {
      "image/png": "[encoded data removed]",
      "text/plain": [
       "<Figure size 432x288 with 1 Axes>"
      ]
     },
     "metadata": {
      "needs_background": "light"
     },
     "output_type": "display_data"
    },
    {
     "name": "stdout",
     "output_type": "stream",
     "text": [
      "This is for 2k tweets\n"
     ]
    },
    {
     "data": {
      "image/png": "[encoded data removed]",
      "text/plain": [
       "<Figure size 432x288 with 1 Axes>"
      ]
     },
     "metadata": {
      "needs_background": "light"
     },
     "output_type": "display_data"
    },
    {
     "data": {
      "text/html": [
       "<div>\n",
       "<style scoped>\n",
       "    .dataframe tbody tr th:only-of-type {\n",
       "        vertical-align: middle;\n",
       "    }\n",
       "\n",
       "    .dataframe tbody tr th {\n",
       "        vertical-align: top;\n",
       "    }\n",
       "\n",
       "    .dataframe thead th {\n",
       "        text-align: right;\n",
       "    }\n",
       "</style>\n",
       "<table border=\"1\" class=\"dataframe\">\n",
       "  <thead>\n",
       "    <tr style=\"text-align: right;\">\n",
       "      <th></th>\n",
       "      <th>Total</th>\n",
       "      <th>Percentage</th>\n",
       "      <th>City</th>\n",
       "    </tr>\n",
       "    <tr>\n",
       "      <th>Score</th>\n",
       "      <th></th>\n",
       "      <th></th>\n",
       "      <th></th>\n",
       "    </tr>\n",
       "  </thead>\n",
       "  <tbody>\n",
       "    <tr>\n",
       "      <th>neutral</th>\n",
       "      <td>40.0</td>\n",
       "      <td>62.50</td>\n",
       "      <td>Phuket</td>\n",
       "    </tr>\n",
       "    <tr>\n",
       "      <th>positive</th>\n",
       "      <td>17.0</td>\n",
       "      <td>26.56</td>\n",
       "      <td>Phuket</td>\n",
       "    </tr>\n",
       "    <tr>\n",
       "      <th>negative</th>\n",
       "      <td>7.0</td>\n",
       "      <td>10.94</td>\n",
       "      <td>Phuket</td>\n",
       "    </tr>\n",
       "    <tr>\n",
       "      <th>neutral</th>\n",
       "      <td>44.0</td>\n",
       "      <td>60.27</td>\n",
       "      <td>Mexico</td>\n",
       "    </tr>\n",
       "    <tr>\n",
       "      <th>positive</th>\n",
       "      <td>4.0</td>\n",
       "      <td>5.48</td>\n",
       "      <td>Mexico</td>\n",
       "    </tr>\n",
       "    <tr>\n",
       "      <th>negative</th>\n",
       "      <td>25.0</td>\n",
       "      <td>34.25</td>\n",
       "      <td>Mexico</td>\n",
       "    </tr>\n",
       "    <tr>\n",
       "      <th>neutral</th>\n",
       "      <td>35.0</td>\n",
       "      <td>51.47</td>\n",
       "      <td>Brazil</td>\n",
       "    </tr>\n",
       "    <tr>\n",
       "      <th>positive</th>\n",
       "      <td>19.0</td>\n",
       "      <td>27.94</td>\n",
       "      <td>Brazil</td>\n",
       "    </tr>\n",
       "    <tr>\n",
       "      <th>negative</th>\n",
       "      <td>14.0</td>\n",
       "      <td>20.59</td>\n",
       "      <td>Brazil</td>\n",
       "    </tr>\n",
       "    <tr>\n",
       "      <th>neutral</th>\n",
       "      <td>58.0</td>\n",
       "      <td>66.67</td>\n",
       "      <td>Puerto Rico</td>\n",
       "    </tr>\n",
       "    <tr>\n",
       "      <th>positive</th>\n",
       "      <td>17.0</td>\n",
       "      <td>19.54</td>\n",
       "      <td>Puerto Rico</td>\n",
       "    </tr>\n",
       "    <tr>\n",
       "      <th>negative</th>\n",
       "      <td>12.0</td>\n",
       "      <td>13.79</td>\n",
       "      <td>Puerto Rico</td>\n",
       "    </tr>\n",
       "    <tr>\n",
       "      <th>neutral</th>\n",
       "      <td>53.0</td>\n",
       "      <td>67.95</td>\n",
       "      <td>Venezuela</td>\n",
       "    </tr>\n",
       "    <tr>\n",
       "      <th>positive</th>\n",
       "      <td>10.0</td>\n",
       "      <td>12.82</td>\n",
       "      <td>Venezuela</td>\n",
       "    </tr>\n",
       "    <tr>\n",
       "      <th>negative</th>\n",
       "      <td>15.0</td>\n",
       "      <td>19.23</td>\n",
       "      <td>Venezuela</td>\n",
       "    </tr>\n",
       "    <tr>\n",
       "      <th>neutral</th>\n",
       "      <td>51.0</td>\n",
       "      <td>63.75</td>\n",
       "      <td>Colombia</td>\n",
       "    </tr>\n",
       "    <tr>\n",
       "      <th>positive</th>\n",
       "      <td>13.0</td>\n",
       "      <td>16.25</td>\n",
       "      <td>Colombia</td>\n",
       "    </tr>\n",
       "    <tr>\n",
       "      <th>negative</th>\n",
       "      <td>16.0</td>\n",
       "      <td>20.00</td>\n",
       "      <td>Colombia</td>\n",
       "    </tr>\n",
       "    <tr>\n",
       "      <th>neutral</th>\n",
       "      <td>53.0</td>\n",
       "      <td>96.36</td>\n",
       "      <td>Kyoto</td>\n",
       "    </tr>\n",
       "    <tr>\n",
       "      <th>positive</th>\n",
       "      <td>2.0</td>\n",
       "      <td>3.64</td>\n",
       "      <td>Kyoto</td>\n",
       "    </tr>\n",
       "    <tr>\n",
       "      <th>negative</th>\n",
       "      <td>0.0</td>\n",
       "      <td>0.00</td>\n",
       "      <td>Kyoto</td>\n",
       "    </tr>\n",
       "    <tr>\n",
       "      <th>neutral</th>\n",
       "      <td>51.0</td>\n",
       "      <td>62.96</td>\n",
       "      <td>Capetown</td>\n",
       "    </tr>\n",
       "    <tr>\n",
       "      <th>positive</th>\n",
       "      <td>28.0</td>\n",
       "      <td>34.57</td>\n",
       "      <td>Capetown</td>\n",
       "    </tr>\n",
       "    <tr>\n",
       "      <th>negative</th>\n",
       "      <td>2.0</td>\n",
       "      <td>2.47</td>\n",
       "      <td>Capetown</td>\n",
       "    </tr>\n",
       "  </tbody>\n",
       "</table>\n",
       "</div>"
      ],
      "text/plain": [
       "          Total  Percentage         City\n",
       "Score                                   \n",
       "neutral    40.0       62.50       Phuket\n",
       "positive   17.0       26.56       Phuket\n",
       "negative    7.0       10.94       Phuket\n",
       "neutral    44.0       60.27       Mexico\n",
       "positive    4.0        5.48       Mexico\n",
       "negative   25.0       34.25       Mexico\n",
       "neutral    35.0       51.47       Brazil\n",
       "positive   19.0       27.94       Brazil\n",
       "negative   14.0       20.59       Brazil\n",
       "neutral    58.0       66.67  Puerto Rico\n",
       "positive   17.0       19.54  Puerto Rico\n",
       "negative   12.0       13.79  Puerto Rico\n",
       "neutral    53.0       67.95    Venezuela\n",
       "positive   10.0       12.82    Venezuela\n",
       "negative   15.0       19.23    Venezuela\n",
       "neutral    51.0       63.75     Colombia\n",
       "positive   13.0       16.25     Colombia\n",
       "negative   16.0       20.00     Colombia\n",
       "neutral    53.0       96.36        Kyoto\n",
       "positive    2.0        3.64        Kyoto\n",
       "negative    0.0        0.00        Kyoto\n",
       "neutral    51.0       62.96     Capetown\n",
       "positive   28.0       34.57     Capetown\n",
       "negative    2.0        2.47     Capetown"
      ]
     },
     "execution_count": 45,
     "metadata": {},
     "output_type": "execute_result"
    }
   ],
   "source": [
    "%time\n",
    "analyze_tweet([\"Phuket\",\"Mexico\",\"Brazil\",\"Puerto Rico\",\"Venezuela\",\"Colombia\",\"Kyoto\",\"Capetown\"])"
   ]
  },
  {
   "cell_type": "code",
   "execution_count": 12,
   "id": "4f83a146",
   "metadata": {},
   "outputs": [],
   "source": [
    "d = analyze_tweet([\"Japan\",\"Russia\",\"Istanbul\",\"Manila\"])"
   ]
  },
  {
   "cell_type": "code",
   "execution_count": 20,
   "id": "c554238c",
   "metadata": {},
   "outputs": [
    {
     "data": {
      "text/html": [
       "<div>\n",
       "<style scoped>\n",
       "    .dataframe tbody tr th:only-of-type {\n",
       "        vertical-align: middle;\n",
       "    }\n",
       "\n",
       "    .dataframe tbody tr th {\n",
       "        vertical-align: top;\n",
       "    }\n",
       "\n",
       "    .dataframe thead th {\n",
       "        text-align: right;\n",
       "    }\n",
       "</style>\n",
       "<table border=\"1\" class=\"dataframe\">\n",
       "  <thead>\n",
       "    <tr style=\"text-align: right;\">\n",
       "      <th></th>\n",
       "      <th>Score</th>\n",
       "      <th>Total</th>\n",
       "      <th>Percentage</th>\n",
       "      <th>City</th>\n",
       "    </tr>\n",
       "  </thead>\n",
       "  <tbody>\n",
       "    <tr>\n",
       "      <th>0</th>\n",
       "      <td>neutral</td>\n",
       "      <td>61</td>\n",
       "      <td>77.22</td>\n",
       "      <td>Japan</td>\n",
       "    </tr>\n",
       "    <tr>\n",
       "      <th>1</th>\n",
       "      <td>positive</td>\n",
       "      <td>12</td>\n",
       "      <td>15.19</td>\n",
       "      <td>Japan</td>\n",
       "    </tr>\n",
       "    <tr>\n",
       "      <th>2</th>\n",
       "      <td>negative</td>\n",
       "      <td>6</td>\n",
       "      <td>7.59</td>\n",
       "      <td>Japan</td>\n",
       "    </tr>\n",
       "    <tr>\n",
       "      <th>3</th>\n",
       "      <td>neutral</td>\n",
       "      <td>24</td>\n",
       "      <td>26.67</td>\n",
       "      <td>Russia</td>\n",
       "    </tr>\n",
       "    <tr>\n",
       "      <th>4</th>\n",
       "      <td>positive</td>\n",
       "      <td>25</td>\n",
       "      <td>27.78</td>\n",
       "      <td>Russia</td>\n",
       "    </tr>\n",
       "    <tr>\n",
       "      <th>5</th>\n",
       "      <td>negative</td>\n",
       "      <td>41</td>\n",
       "      <td>45.56</td>\n",
       "      <td>Russia</td>\n",
       "    </tr>\n",
       "    <tr>\n",
       "      <th>6</th>\n",
       "      <td>neutral</td>\n",
       "      <td>76</td>\n",
       "      <td>96.20</td>\n",
       "      <td>Istanbul</td>\n",
       "    </tr>\n",
       "    <tr>\n",
       "      <th>7</th>\n",
       "      <td>positive</td>\n",
       "      <td>1</td>\n",
       "      <td>1.27</td>\n",
       "      <td>Istanbul</td>\n",
       "    </tr>\n",
       "    <tr>\n",
       "      <th>8</th>\n",
       "      <td>negative</td>\n",
       "      <td>2</td>\n",
       "      <td>2.53</td>\n",
       "      <td>Istanbul</td>\n",
       "    </tr>\n",
       "    <tr>\n",
       "      <th>9</th>\n",
       "      <td>neutral</td>\n",
       "      <td>37</td>\n",
       "      <td>50.68</td>\n",
       "      <td>Manila</td>\n",
       "    </tr>\n",
       "    <tr>\n",
       "      <th>10</th>\n",
       "      <td>positive</td>\n",
       "      <td>26</td>\n",
       "      <td>35.62</td>\n",
       "      <td>Manila</td>\n",
       "    </tr>\n",
       "    <tr>\n",
       "      <th>11</th>\n",
       "      <td>negative</td>\n",
       "      <td>10</td>\n",
       "      <td>13.70</td>\n",
       "      <td>Manila</td>\n",
       "    </tr>\n",
       "  </tbody>\n",
       "</table>\n",
       "</div>"
      ],
      "text/plain": [
       "       Score  Total  Percentage      City\n",
       "0    neutral     61       77.22     Japan\n",
       "1   positive     12       15.19     Japan\n",
       "2   negative      6        7.59     Japan\n",
       "3    neutral     24       26.67    Russia\n",
       "4   positive     25       27.78    Russia\n",
       "5   negative     41       45.56    Russia\n",
       "6    neutral     76       96.20  Istanbul\n",
       "7   positive      1        1.27  Istanbul\n",
       "8   negative      2        2.53  Istanbul\n",
       "9    neutral     37       50.68    Manila\n",
       "10  positive     26       35.62    Manila\n",
       "11  negative     10       13.70    Manila"
      ]
     },
     "execution_count": 20,
     "metadata": {},
     "output_type": "execute_result"
    }
   ],
   "source": [
    "d.reset_index()"
   ]
  },
  {
   "cell_type": "code",
   "execution_count": null,
   "id": "0b295490",
   "metadata": {},
   "outputs": [],
   "source": [
    "sns"
   ]
  },
  {
   "cell_type": "code",
   "execution_count": 16,
   "id": "69418082",
   "metadata": {},
   "outputs": [
    {
     "data": {
      "text/plain": [
       "(array([0., 0., 0., 0., 0., 1., 0., 0., 0., 0.]),\n",
       " array([-0.5, -0.4, -0.3, -0.2, -0.1,  0. ,  0.1,  0.2,  0.3,  0.4,  0.5]),\n",
       " <BarContainer object of 10 artists>)"
      ]
     },
     "execution_count": 16,
     "metadata": {},
     "output_type": "execute_result"
    },
    {
     "data": {
      "image/png": "[encoded data removed]",
      "text/plain": [
       "<Figure size 432x288 with 1 Axes>"
      ]
     },
     "metadata": {
      "needs_background": "light"
     },
     "output_type": "display_data"
    }
   ],
   "source": [
    "plt.hist(x =\"City\",label=\"Score\")"
   ]
  },
  {
   "cell_type": "code",
   "execution_count": null,
   "id": "b211b36a",
   "metadata": {},
   "outputs": [],
   "source": []
  }
 ],
 "metadata": {
  "kernelspec": {
   "display_name": "Python 3 (ipykernel)",
   "language": "python",
   "name": "python3"
  },
  "language_info": {
   "codemirror_mode": {
    "name": "ipython",
    "version": 3
   },
   "file_extension": ".py",
   "mimetype": "text/x-python",
   "name": "python",
   "nbconvert_exporter": "python",
   "pygments_lexer": "ipython3",
   "version": "3.8.12"
  },
  "toc": {
   "base_numbering": 1,
   "nav_menu": {},
   "number_sections": true,
   "sideBar": true,
   "skip_h1_title": false,
   "title_cell": "Table of Contents",
   "title_sidebar": "Contents",
   "toc_cell": false,
   "toc_position": {},
   "toc_section_display": true,
   "toc_window_display": false
  }
 },
 "nbformat": 4,
 "nbformat_minor": 5
}
