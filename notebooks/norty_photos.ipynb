{
 "cells": [
  {
   "cell_type": "code",
   "execution_count": 1,
   "id": "3378d5cb",
   "metadata": {},
   "outputs": [
    {
     "name": "stderr",
     "output_type": "stream",
     "text": [
      "[nltk_data] Downloading package vader_lexicon to\n",
      "[nltk_data]     /Users/norty/nltk_data...\n",
      "[nltk_data]   Package vader_lexicon is already up-to-date!\n",
      "Python-dotenv could not parse statement starting at line 2\n",
      "Python-dotenv could not parse statement starting at line 2\n"
     ]
    }
   ],
   "source": [
    "from smackbang.twitter import analyze_tweet"
   ]
  },
  {
   "cell_type": "code",
   "execution_count": 3,
   "id": "7c18a62c",
   "metadata": {},
   "outputs": [
    {
     "data": {
      "text/plain": [
       "'<table border=\"1\" class=\"dataframe\">\\n  <thead>\\n    <tr style=\"text-align: right;\">\\n      <th></th>\\n      <th>City</th>\\n      <th>Verdict</th>\\n    </tr>\\n  </thead>\\n  <tbody>\\n    <tr>\\n      <th>0</th>\\n      <td>Bangkok</td>\\n      <td>../data/thumbs_up_green.ico</td>\\n    </tr>\\n  </tbody>\\n</table>'"
      ]
     },
     "execution_count": 3,
     "metadata": {},
     "output_type": "execute_result"
    }
   ],
   "source": [
    "analyze_tweet([\"Bangkok\"]).to_html()"
   ]
  },
  {
   "cell_type": "code",
   "execution_count": 4,
   "id": "32e72b0e",
   "metadata": {},
   "outputs": [
    {
     "ename": "SyntaxError",
     "evalue": "invalid character in identifier (2926160587.py, line 1)",
     "output_type": "error",
     "traceback": [
      "\u001b[0;36m  Input \u001b[0;32mIn [4]\u001b[0;36m\u001b[0m\n\u001b[0;31m    🙆 🙆🏻 🙆🏼\u001b[0m\n\u001b[0m    ^\u001b[0m\n\u001b[0;31mSyntaxError\u001b[0m\u001b[0;31m:\u001b[0m invalid character in identifier\n"
     ]
    }
   ],
   "source": [
    " 🙆 🙆🏻 🙆🏼\n",
    "    \n",
    "🙅 🙅🏻 🙅🏼‍\n",
    "\n",
    "🙆‍♂️\n",
    "\n",
    "🙅🏼‍♂️\n",
    "\n",
    "🆗\n",
    "\n",
    "🆖\n",
    "\n",
    "😁 😡\n",
    "\n",
    "🥳 \n",
    "\n",
    "\n",
    "\n",
    "\n",
    "100 -  <84 green, 84-116 orange, >116red"
   ]
  },
  {
   "cell_type": "code",
   "execution_count": 35,
   "id": "9efcf5b5",
   "metadata": {},
   "outputs": [],
   "source": [
    "def light(current,pred):\n",
    "    #set std can change in the future\n",
    "    std = pred*.1\n",
    "    red_zone = pred + std\n",
    "    green_zone = pred - std\n",
    "  \n",
    "    if current >=0 and current <= green_zone:\n",
    "        return \"🟢\"\n",
    "    if current > green_zone and current < red_zone:\n",
    "        return \"🟠\"\n",
    "    if current >= red_zone:\n",
    "        return \"🔴\"\n"
   ]
  },
  {
   "cell_type": "code",
   "execution_count": 40,
   "id": "2a8b3d96",
   "metadata": {},
   "outputs": [
    {
     "name": "stdout",
     "output_type": "stream",
     "text": [
      "this is the std 15.0\n",
      "higher than this 165.0 should be 🔴\n",
      "lower than this 135.0 should be 🟢\n"
     ]
    },
    {
     "data": {
      "text/plain": [
       "'🟠'"
      ]
     },
     "execution_count": 40,
     "metadata": {},
     "output_type": "execute_result"
    }
   ],
   "source": [
    "light(136,150)"
   ]
  },
  {
   "cell_type": "code",
   "execution_count": 21,
   "id": "63c0b10f",
   "metadata": {},
   "outputs": [
    {
     "data": {
      "text/plain": [
       "10.0"
      ]
     },
     "execution_count": 21,
     "metadata": {},
     "output_type": "execute_result"
    }
   ],
   "source": [
    "statement1 if expression1 else (statement2 if expression2 else statement3)"
   ]
  },
  {
   "cell_type": "code",
   "execution_count": 56,
   "id": "a044d50d",
   "metadata": {},
   "outputs": [],
   "source": [
    "def currency_sign(s):\n",
    "    try:\n",
    "        currency_dict= {\"USD\":\"$\", \"AUD\":\"$\",\n",
    "                        \"NZD\":\"$\", \"EUR\": \"€\",\n",
    "                        \"JPY\":\"¥\", \"INR\": \"₹\"}\n",
    "        return currency_dict[s]\n",
    "    \n",
    "    except:\n",
    "        return \"You messed up, Paul!\""
   ]
  },
  {
   "cell_type": "code",
   "execution_count": 58,
   "id": "ae18b051",
   "metadata": {},
   "outputs": [
    {
     "data": {
      "text/plain": [
       "'₹'"
      ]
     },
     "execution_count": 58,
     "metadata": {},
     "output_type": "execute_result"
    }
   ],
   "source": [
    "currency_sign(\"INR\")"
   ]
  },
  {
   "cell_type": "code",
   "execution_count": null,
   "id": "a1b9dd6f",
   "metadata": {},
   "outputs": [],
   "source": []
  }
 ],
 "metadata": {
  "kernelspec": {
   "display_name": "Python 3 (ipykernel)",
   "language": "python",
   "name": "python3"
  },
  "language_info": {
   "codemirror_mode": {
    "name": "ipython",
    "version": 3
   },
   "file_extension": ".py",
   "mimetype": "text/x-python",
   "name": "python",
   "nbconvert_exporter": "python",
   "pygments_lexer": "ipython3",
   "version": "3.8.12"
  },
  "toc": {
   "base_numbering": 1,
   "nav_menu": {},
   "number_sections": true,
   "sideBar": true,
   "skip_h1_title": false,
   "title_cell": "Table of Contents",
   "title_sidebar": "Contents",
   "toc_cell": false,
   "toc_position": {},
   "toc_section_display": true,
   "toc_window_display": false
  }
 },
 "nbformat": 4,
 "nbformat_minor": 5
}
