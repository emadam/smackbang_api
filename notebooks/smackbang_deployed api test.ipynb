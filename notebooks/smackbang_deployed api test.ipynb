{
 "cells": [
  {
   "cell_type": "code",
   "execution_count": 18,
   "id": "9e5c5df3",
   "metadata": {
    "scrolled": true
   },
   "outputs": [],
   "source": [
    "import requests\n",
    "import pandas as pd\n",
    "from requests.structures import CaseInsensitiveDict\n",
    "\n",
    "url = \"https://smackbang-image-w76hg6ifha-ew.a.run.app/matches\"\n",
    "\n",
    "headers = CaseInsensitiveDict()\n",
    "headers[\"accept\"] = \"application/json\"\n",
    "\n",
    "origin_one = 'NRT'\n",
    "origin_two = 'SYD'\n",
    "departure_date = '01/04/2022'\n",
    "continent='AS'\n",
    "\n",
    "query_string = {'origin_one':origin_one, 'origin_two':origin_two, 'departure_date':departure_date, \n",
    "                'continent':continent, 'return_date':'', 'currency':'USD'}\n",
    "\n",
    "result = requests.get(url, headers=headers, params=query_string).json()\n",
    "                \n",
    "matches_df = pd.DataFrame(result)"
   ]
  },
  {
   "cell_type": "code",
   "execution_count": 21,
   "id": "6217e036",
   "metadata": {},
   "outputs": [],
   "source": []
  },
  {
   "cell_type": "code",
   "execution_count": null,
   "id": "3a6f221b",
   "metadata": {},
   "outputs": [],
   "source": []
  }
 ],
 "metadata": {
  "kernelspec": {
   "display_name": "Python 3 (ipykernel)",
   "language": "python",
   "name": "python3"
  },
  "language_info": {
   "codemirror_mode": {
    "name": "ipython",
    "version": 3
   },
   "file_extension": ".py",
   "mimetype": "text/x-python",
   "name": "python",
   "nbconvert_exporter": "python",
   "pygments_lexer": "ipython3",
   "version": "3.8.12"
  },
  "toc": {
   "base_numbering": 1,
   "nav_menu": {},
   "number_sections": true,
   "sideBar": true,
   "skip_h1_title": false,
   "title_cell": "Table of Contents",
   "title_sidebar": "Contents",
   "toc_cell": false,
   "toc_position": {},
   "toc_section_display": true,
   "toc_window_display": false
  }
 },
 "nbformat": 4,
 "nbformat_minor": 5
}
