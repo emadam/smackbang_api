{
 "cells": [
  {
   "cell_type": "code",
   "execution_count": 1,
   "id": "ec30a75a",
   "metadata": {},
   "outputs": [],
   "source": [
    "import data"
   ]
  },
  {
   "cell_type": "code",
   "execution_count": 2,
   "id": "2d1feaf3",
   "metadata": {},
   "outputs": [],
   "source": [
    "from smackbang.matches import get_matches"
   ]
  },
  {
   "cell_type": "code",
   "execution_count": 3,
   "id": "fc9ec4cb",
   "metadata": {},
   "outputs": [],
   "source": [
    "from textblob import TextBlob\n",
    "import tweepy\n",
    "import matplotlib.pyplot as plt\n",
    "import pandas as pd\n",
    "import re\n",
    "from nltk.sentiment.vader import SentimentIntensityAnalyzer"
   ]
  },
  {
   "cell_type": "code",
   "execution_count": 4,
   "id": "d16ced58",
   "metadata": {},
   "outputs": [],
   "source": [
    "# Authentication\n",
    "consumerKey = \"PqA88zMUxSwVZi5hJpKdVKT4L\"\n",
    "consumerSecret = \"WQ1xDXrygO4US93heMenGkj5z6DZeUQrZDIyoACAVZqtzulpPc\"\n",
    "accessToken = \"1499085994561310727-p9J1gRV1tsLrVowGCvinw3lEvMHB5z\"\n",
    "accessTokenSecret = \"zVxDSNXC8qmv2ZR5ZD6bE7rT0EmaRewTJxakYlQx89ncL\"\n",
    "auth = tweepy.OAuthHandler(consumerKey, consumerSecret)\n",
    "auth.set_access_token(accessToken, accessTokenSecret)\n",
    "api = tweepy.API(auth)"
   ]
  },
  {
   "cell_type": "code",
   "execution_count": 5,
   "id": "252670e7",
   "metadata": {},
   "outputs": [],
   "source": [
    "#Sentiment Analysis\n",
    "\n",
    "def analyze_tweet(cities):\n",
    "    noOfTweet = 2000\n",
    "    list_df= []\n",
    "    for city in cities:      \n",
    "\n",
    "        #tweets = tweepy.Cursor(api.search_tweets(), q=keyword).items(noOfTweet)\n",
    "        tweets = api.search_tweets(q=city, count=noOfTweet)\n",
    "\n",
    "        tweet_list = []\n",
    "\n",
    "        for tweet in tweets:\n",
    "            tweet_list.append(tweet.text)\n",
    "\n",
    "        #Tweets to DF\n",
    "        tweet_list = pd.DataFrame(tweet_list)\n",
    "\n",
    "        #Clean the data\n",
    "        tweet_list.drop_duplicates(inplace = True)\n",
    "        tw_list = pd.DataFrame(tweet_list)\n",
    "\n",
    "        #Make another column to compare\n",
    "        tw_list[\"text\"] = tw_list[0]\n",
    "\n",
    "        #More cleaning\n",
    "        remove_rt = lambda x: re.sub('RT @\\w+:',\" \",x)\n",
    "        rt = lambda x: re.sub('(@[A-Za-z0–9]+)|(\\w+:\\/\\/\\S+)',\" \",x)\n",
    "        removen = lambda x: re.sub('\\n',' ', x)\n",
    "        tw_list[\"text\"] = tw_list.text.map(remove_rt).map(rt).map(removen)\n",
    "        tw_list[\"text\"] = tw_list.text.str.lower()\n",
    "\n",
    "        #I will try to simplify this\n",
    "        tw_list[[\"polarity\", \"subjectivity\"]] = tw_list[\"text\"].apply(lambda Text: pd.Series(TextBlob(Text).sentiment))\n",
    "        for index, row in tw_list[\"text\"].iteritems():\n",
    "            score = SentimentIntensityAnalyzer().polarity_scores(row)\n",
    "            neg = score[\"neg\"]\n",
    "            neu = score[\"neu\"]\n",
    "            pos = score[\"pos\"]\n",
    "            comp = score[\"compound\"]\n",
    "            if neg > pos:\n",
    "                tw_list.loc[index, \"sentiment\"] = \"negative\"\n",
    "            elif pos > neg:\n",
    "                tw_list.loc[index, \"sentiment\"] = \"positive\"\n",
    "            else:\n",
    "                tw_list.loc[index, \"sentiment\"] = \"neutral\"\n",
    "                tw_list.loc[index, \"neg\"] = neg\n",
    "                tw_list.loc[index, \"neu\"] = neu\n",
    "                tw_list.loc[index, \"pos\"] = pos\n",
    "                tw_list.loc[index, \"compound\"] = comp\n",
    "\n",
    "        def thumb(neg,neu,pos):\n",
    "            if pos+(neu/2) >= neg+(neu/2):\n",
    "                return \"👍\"\n",
    "            else:\n",
    "                return \"👎\"\n",
    "\n",
    "        #Output a simplified DF\n",
    "        def count_values_in_column(data,feature):\n",
    "            \n",
    "            total=data.loc[:,feature].value_counts(dropna=False)\n",
    "            percentage=round(data.loc[:,feature].value_counts(dropna=False,normalize=True)*100,2)\n",
    "            df= pd.concat([total,percentage],axis=1,keys=[\"Total\",\"Percentage\"])\n",
    "            df[\"City\"] = city\n",
    "            df[\"Verdict\"] = thumb(df[\"Total\"].loc[\"negative\"], df[\"Total\"].loc[\"neutral\"], df[\"Total\"].loc[\"positive\"])\n",
    "            list_df.append(df)\n",
    "\n",
    "\n",
    "        #Count_values for sentiment\n",
    "        count_values_in_column(tw_list,\"sentiment\")\n",
    "    result =  pd.concat(list_df)\n",
    "    return result.reset_index(drop=True).drop(columns=[\"Total\",\"Percentage\"]).drop_duplicates()"
   ]
  },
  {
   "cell_type": "code",
   "execution_count": 37,
   "id": "174b4d1e",
   "metadata": {},
   "outputs": [],
   "source": [
    "df = analyze_tweet([\"Japan\",\"Russia\",\"Korea\"])\n"
   ]
  },
  {
   "cell_type": "code",
   "execution_count": 38,
   "id": "6605fe6b",
   "metadata": {},
   "outputs": [
    {
     "data": {
      "text/html": [
       "<div>\n",
       "<style scoped>\n",
       "    .dataframe tbody tr th:only-of-type {\n",
       "        vertical-align: middle;\n",
       "    }\n",
       "\n",
       "    .dataframe tbody tr th {\n",
       "        vertical-align: top;\n",
       "    }\n",
       "\n",
       "    .dataframe thead th {\n",
       "        text-align: right;\n",
       "    }\n",
       "</style>\n",
       "<table border=\"1\" class=\"dataframe\">\n",
       "  <thead>\n",
       "    <tr style=\"text-align: right;\">\n",
       "      <th></th>\n",
       "      <th>City</th>\n",
       "      <th>Verdict</th>\n",
       "    </tr>\n",
       "  </thead>\n",
       "  <tbody>\n",
       "    <tr>\n",
       "      <th>0</th>\n",
       "      <td>Japan</td>\n",
       "      <td>👍</td>\n",
       "    </tr>\n",
       "    <tr>\n",
       "      <th>3</th>\n",
       "      <td>Russia</td>\n",
       "      <td>👎</td>\n",
       "    </tr>\n",
       "    <tr>\n",
       "      <th>6</th>\n",
       "      <td>Korea</td>\n",
       "      <td>👍</td>\n",
       "    </tr>\n",
       "  </tbody>\n",
       "</table>\n",
       "</div>"
      ],
      "text/plain": [
       "     City Verdict\n",
       "0   Japan       👍\n",
       "3  Russia       👎\n",
       "6   Korea       👍"
      ]
     },
     "execution_count": 38,
     "metadata": {},
     "output_type": "execute_result"
    }
   ],
   "source": [
    "df"
   ]
  },
  {
   "cell_type": "code",
   "execution_count": 41,
   "id": "4b37d985",
   "metadata": {},
   "outputs": [],
   "source": [
    "result  = df.to_dict()"
   ]
  },
  {
   "cell_type": "code",
   "execution_count": 42,
   "id": "acd3f42e",
   "metadata": {},
   "outputs": [
    {
     "data": {
      "text/html": [
       "<div>\n",
       "<style scoped>\n",
       "    .dataframe tbody tr th:only-of-type {\n",
       "        vertical-align: middle;\n",
       "    }\n",
       "\n",
       "    .dataframe tbody tr th {\n",
       "        vertical-align: top;\n",
       "    }\n",
       "\n",
       "    .dataframe thead th {\n",
       "        text-align: right;\n",
       "    }\n",
       "</style>\n",
       "<table border=\"1\" class=\"dataframe\">\n",
       "  <thead>\n",
       "    <tr style=\"text-align: right;\">\n",
       "      <th></th>\n",
       "      <th>City</th>\n",
       "      <th>Verdict</th>\n",
       "    </tr>\n",
       "  </thead>\n",
       "  <tbody>\n",
       "    <tr>\n",
       "      <th>0</th>\n",
       "      <td>Japan</td>\n",
       "      <td>👍</td>\n",
       "    </tr>\n",
       "    <tr>\n",
       "      <th>3</th>\n",
       "      <td>Russia</td>\n",
       "      <td>👎</td>\n",
       "    </tr>\n",
       "    <tr>\n",
       "      <th>6</th>\n",
       "      <td>Korea</td>\n",
       "      <td>👍</td>\n",
       "    </tr>\n",
       "  </tbody>\n",
       "</table>\n",
       "</div>"
      ],
      "text/plain": [
       "     City Verdict\n",
       "0   Japan       👍\n",
       "3  Russia       👎\n",
       "6   Korea       👍"
      ]
     },
     "execution_count": 42,
     "metadata": {},
     "output_type": "execute_result"
    }
   ],
   "source": [
    "pd.DataFrame(result)"
   ]
  },
  {
   "cell_type": "code",
   "execution_count": 43,
   "id": "4495a9dd",
   "metadata": {},
   "outputs": [],
   "source": [
    "cities = 'SYD,NRT'"
   ]
  },
  {
   "cell_type": "code",
   "execution_count": 44,
   "id": "cd98aab9",
   "metadata": {},
   "outputs": [
    {
     "data": {
      "text/plain": [
       "['SYD', 'NRT']"
      ]
     },
     "execution_count": 44,
     "metadata": {},
     "output_type": "execute_result"
    }
   ],
   "source": [
    "cities.split(',')"
   ]
  },
  {
   "cell_type": "code",
   "execution_count": 45,
   "id": "84774a27",
   "metadata": {},
   "outputs": [],
   "source": [
    "from smackbang.locations import get_city_location"
   ]
  },
  {
   "cell_type": "code",
   "execution_count": 59,
   "id": "5ac64630",
   "metadata": {},
   "outputs": [],
   "source": [
    "result = get_city_location([\"AKL\",\"SYD\"])"
   ]
  },
  {
   "cell_type": "code",
   "execution_count": 60,
   "id": "0f87067c",
   "metadata": {},
   "outputs": [],
   "source": [
    "result ={\n",
    "  \"lat\": {\n",
    "    \"0\": -33.8689,\n",
    "    \"1\": -36.84846\n",
    "  },\n",
    "  \"lon\": {\n",
    "    \"0\": 151.20709,\n",
    "    \"1\": 174.76334\n",
    "  },\n",
    "  \"city_code\": {\n",
    "    \"0\": \"SYD\",\n",
    "    \"1\": \"AKL\"\n",
    "  }\n",
    "}"
   ]
  },
  {
   "cell_type": "code",
   "execution_count": 61,
   "id": "46ae9c22",
   "metadata": {},
   "outputs": [
    {
     "data": {
      "text/html": [
       "<div>\n",
       "<style scoped>\n",
       "    .dataframe tbody tr th:only-of-type {\n",
       "        vertical-align: middle;\n",
       "    }\n",
       "\n",
       "    .dataframe tbody tr th {\n",
       "        vertical-align: top;\n",
       "    }\n",
       "\n",
       "    .dataframe thead th {\n",
       "        text-align: right;\n",
       "    }\n",
       "</style>\n",
       "<table border=\"1\" class=\"dataframe\">\n",
       "  <thead>\n",
       "    <tr style=\"text-align: right;\">\n",
       "      <th></th>\n",
       "      <th>lat</th>\n",
       "      <th>lon</th>\n",
       "      <th>city_code</th>\n",
       "    </tr>\n",
       "  </thead>\n",
       "  <tbody>\n",
       "    <tr>\n",
       "      <th>0</th>\n",
       "      <td>-33.86890</td>\n",
       "      <td>151.20709</td>\n",
       "      <td>SYD</td>\n",
       "    </tr>\n",
       "    <tr>\n",
       "      <th>1</th>\n",
       "      <td>-36.84846</td>\n",
       "      <td>174.76334</td>\n",
       "      <td>AKL</td>\n",
       "    </tr>\n",
       "  </tbody>\n",
       "</table>\n",
       "</div>"
      ],
      "text/plain": [
       "        lat        lon city_code\n",
       "0 -33.86890  151.20709       SYD\n",
       "1 -36.84846  174.76334       AKL"
      ]
     },
     "execution_count": 61,
     "metadata": {},
     "output_type": "execute_result"
    }
   ],
   "source": [
    "pd.DataFrame(result)"
   ]
  },
  {
   "cell_type": "code",
   "execution_count": null,
   "id": "bd73fd30",
   "metadata": {},
   "outputs": [],
   "source": []
  }
 ],
 "metadata": {
  "kernelspec": {
   "display_name": "Python 3 (ipykernel)",
   "language": "python",
   "name": "python3"
  },
  "language_info": {
   "codemirror_mode": {
    "name": "ipython",
    "version": 3
   },
   "file_extension": ".py",
   "mimetype": "text/x-python",
   "name": "python",
   "nbconvert_exporter": "python",
   "pygments_lexer": "ipython3",
   "version": "3.8.12"
  },
  "toc": {
   "base_numbering": 1,
   "nav_menu": {},
   "number_sections": true,
   "sideBar": true,
   "skip_h1_title": false,
   "title_cell": "Table of Contents",
   "title_sidebar": "Contents",
   "toc_cell": false,
   "toc_position": {},
   "toc_section_display": true,
   "toc_window_display": false
  }
 },
 "nbformat": 4,
 "nbformat_minor": 5
}
